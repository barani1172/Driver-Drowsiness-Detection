{
  "metadata": {
    "kernelspec": {
      "language": "python",
      "display_name": "Python 3",
      "name": "python3"
    },
    "language_info": {
      "name": "python",
      "version": "3.7.12",
      "mimetype": "text/x-python",
      "codemirror_mode": {
        "name": "ipython",
        "version": 3
      },
      "pygments_lexer": "ipython3",
      "nbconvert_exporter": "python",
      "file_extension": ".py"
    },
    "colab": {
      "provenance": [],
      "include_colab_link": true
    }
  },
  "nbformat_minor": 0,
  "nbformat": 4,
  "cells": [
    {
      "cell_type": "markdown",
      "metadata": {
        "id": "view-in-github",
        "colab_type": "text"
      },
      "source": [
        "<a href=\"https://colab.research.google.com/github/NITHISHM2410/Driver-Drowsiness-Detection/blob/main/Driver_Drowsiness_Detection/NoteBooks/driver_drowsiness_detection_eye.ipynb\" target=\"_parent\"><img src=\"https://colab.research.google.com/assets/colab-badge.svg\" alt=\"Open In Colab\"/></a>"
      ]
    },
    {
      "cell_type": "markdown",
      "source": [
        "# **Drowsiness Detection System**"
      ],
      "metadata": {
        "id": "3rpuJKSbbKK1"
      }
    },
    {
      "cell_type": "markdown",
      "source": [
        "**Importing Required Libraries**"
      ],
      "metadata": {
        "id": "JVQfMYQNbKK6"
      }
    },
    {
      "cell_type": "code",
      "source": [
        "import numpy as np\n",
        "import pandas as pd\n",
        "import tensorflow as tf\n",
        "tf.random.set_seed(42)\n",
        "import matplotlib.pyplot as plt\n",
        "from glob import glob\n",
        "import cv2\n",
        "import os\n",
        "import shutil\n",
        "import random\n",
        "import math\n",
        "import tensorflow_datasets as tfds"
      ],
      "metadata": {
        "id": "K54u2lA5siJv",
        "execution": {
          "iopub.status.busy": "2023-04-04T08:28:58.990022Z",
          "iopub.execute_input": "2023-04-04T08:28:58.990938Z",
          "iopub.status.idle": "2023-04-04T08:29:05.017267Z",
          "shell.execute_reply.started": "2023-04-04T08:28:58.990798Z",
          "shell.execute_reply": "2023-04-04T08:29:05.016527Z"
        },
        "trusted": true
      },
      "execution_count": null,
      "outputs": []
    },
    {
      "cell_type": "markdown",
      "source": [
        "**Checking TensorFlow Version**"
      ],
      "metadata": {
        "id": "hWCM142sbKK8"
      }
    },
    {
      "cell_type": "code",
      "source": [
        "from tensorflow.python import keras\n",
        "print(keras.__version__)"
      ],
      "metadata": {
        "execution": {
          "iopub.status.busy": "2023-04-04T08:29:05.018993Z",
          "iopub.execute_input": "2023-04-04T08:29:05.019252Z",
          "iopub.status.idle": "2023-04-04T08:29:05.026131Z",
          "shell.execute_reply.started": "2023-04-04T08:29:05.019220Z",
          "shell.execute_reply": "2023-04-04T08:29:05.023118Z"
        },
        "trusted": true,
        "id": "niw3sSrLbKK8",
        "outputId": "bae497dd-e0b7-419c-d043-ac1ce55c0218"
      },
      "execution_count": null,
      "outputs": [
        {
          "name": "stdout",
          "text": "2.6.0\n",
          "output_type": "stream"
        }
      ]
    },
    {
      "cell_type": "markdown",
      "source": [
        "**Creating a Folder to Store TFRecords**"
      ],
      "metadata": {
        "id": "NJWjzfPPbKK9"
      }
    },
    {
      "cell_type": "code",
      "source": [
        "!mkdir images"
      ],
      "metadata": {
        "id": "gVIuTxtdtzhl",
        "execution": {
          "iopub.status.busy": "2023-04-04T08:29:05.027356Z",
          "iopub.execute_input": "2023-04-04T08:29:05.027758Z",
          "iopub.status.idle": "2023-04-04T08:29:05.996675Z",
          "shell.execute_reply.started": "2023-04-04T08:29:05.027723Z",
          "shell.execute_reply": "2023-04-04T08:29:05.995734Z"
        },
        "trusted": true
      },
      "execution_count": null,
      "outputs": []
    },
    {
      "cell_type": "markdown",
      "source": [
        "**Function to Convert Arrays to Binary Stream**"
      ],
      "metadata": {
        "id": "Y_yD4P7vbKK-"
      }
    },
    {
      "cell_type": "code",
      "source": [
        "def _bytes_feature(value):\n",
        "    if isinstance(value, type(tf.constant(0))): \n",
        "        value = value.numpy() \n",
        "    return tf.train.Feature(bytes_list=tf.train.BytesList(value=[value]))"
      ],
      "metadata": {
        "id": "R8RMZzelsP0f",
        "execution": {
          "iopub.status.busy": "2023-04-04T08:29:06.000477Z",
          "iopub.execute_input": "2023-04-04T08:29:06.001225Z",
          "iopub.status.idle": "2023-04-04T08:29:06.007602Z",
          "shell.execute_reply.started": "2023-04-04T08:29:06.001185Z",
          "shell.execute_reply": "2023-04-04T08:29:06.006910Z"
        },
        "trusted": true
      },
      "execution_count": null,
      "outputs": []
    },
    {
      "cell_type": "markdown",
      "source": [
        "**Function to Convert A Sample to Binary Stream**"
      ],
      "metadata": {
        "id": "AMklgWqJbKK_"
      }
    },
    {
      "cell_type": "code",
      "source": [
        "def serialize_example(image,label):\n",
        "    feature = {\n",
        "        'image':tf.train.Feature(bytes_list=tf.train.BytesList(value=[image])),\n",
        "        'label':_bytes_feature(tf.io.serialize_tensor(label))\n",
        "    }\n",
        "    example = tf.train.Example(features=tf.train.Features(feature=feature))\n",
        "    return example.SerializeToString()\n"
      ],
      "metadata": {
        "id": "lYKZOvkAsQ77",
        "execution": {
          "iopub.status.busy": "2023-04-04T08:29:06.008921Z",
          "iopub.execute_input": "2023-04-04T08:29:06.009175Z",
          "iopub.status.idle": "2023-04-04T08:29:06.016651Z",
          "shell.execute_reply.started": "2023-04-04T08:29:06.009142Z",
          "shell.execute_reply": "2023-04-04T08:29:06.015908Z"
        },
        "trusted": true
      },
      "execution_count": null,
      "outputs": []
    },
    {
      "cell_type": "markdown",
      "source": [
        "**Function to Create TF Records from Binary Stream Objects**"
      ],
      "metadata": {
        "id": "f87kT0JQbKLA"
      }
    },
    {
      "cell_type": "code",
      "source": [
        "def tf_writer(op_path,filelist):\n",
        "    classes=['Closed','Open']\n",
        "    with tf.io.TFRecordWriter(op_path,options=tf.io.TFRecordOptions(compression_type=\"GZIP\")) as writer:\n",
        "                random.shuffle(filelist)\n",
        "                for fn in filelist:\n",
        "                    label = np.array([0,0],dtype='float64')\n",
        "                    img = open(fn,'rb').read()\n",
        "                    lab = fn.split('/')[-2]\n",
        "                    lab = classes.index(lab)\n",
        "                    label[lab] = 1.0\n",
        "                    tf_example = serialize_example(img,label)\n",
        "                    writer.write(tf_example)"
      ],
      "metadata": {
        "id": "Hwc-pBLNsdMg",
        "execution": {
          "iopub.status.busy": "2023-04-04T08:29:09.410854Z",
          "iopub.execute_input": "2023-04-04T08:29:09.411146Z",
          "iopub.status.idle": "2023-04-04T08:29:09.417242Z",
          "shell.execute_reply.started": "2023-04-04T08:29:09.411115Z",
          "shell.execute_reply": "2023-04-04T08:29:09.416512Z"
        },
        "trusted": true
      },
      "execution_count": null,
      "outputs": []
    },
    {
      "cell_type": "markdown",
      "source": [
        "**Creating records path**"
      ],
      "metadata": {
        "id": "w481BRbfbKLB"
      }
    },
    {
      "cell_type": "code",
      "source": [
        "def create_records(path,op):\n",
        "    classes=['Closed','Open']\n",
        "    files_list = glob(path+'/Closed/*')\n",
        "    files_list1 = glob(path+'/Open/*')\n",
        "    com_list = files_list + files_list1\n",
        "    tf_writer(op,com_list)\n",
        "def create_records_test_val(path):\n",
        "    classes=[\"Closed\",]\n",
        "    files_list = glob(path+'/Closed/*')\n",
        "    files_list1 = glob(path+'/Open/*')\n",
        "    com_list = files_list + files_list1\n",
        "    tf_writer(\"test_rec\",com_list[:len(com_list)//2])\n",
        "    tf_writer(\"val_rec\",com_list[len(com_list)//2:])\n",
        "       "
      ],
      "metadata": {
        "execution": {
          "iopub.status.busy": "2023-04-04T08:29:34.469696Z",
          "iopub.execute_input": "2023-04-04T08:29:34.469978Z",
          "iopub.status.idle": "2023-04-04T08:29:34.475555Z",
          "shell.execute_reply.started": "2023-04-04T08:29:34.469947Z",
          "shell.execute_reply": "2023-04-04T08:29:34.474810Z"
        },
        "trusted": true,
        "id": "sgeORyk8bKLB"
      },
      "execution_count": null,
      "outputs": []
    },
    {
      "cell_type": "markdown",
      "source": [
        "**Calling all the above Functions**"
      ],
      "metadata": {
        "id": "4OuBty9MbKLB"
      }
    },
    {
      "cell_type": "code",
      "source": [
        "create_records(\"/kaggle/input/yawn-eye-dataset-new/dataset_new/train\",\"train_rec\")"
      ],
      "metadata": {
        "id": "kv5FtWe6sSwJ",
        "execution": {
          "iopub.status.busy": "2023-04-04T08:29:35.684356Z",
          "iopub.execute_input": "2023-04-04T08:29:35.685048Z",
          "iopub.status.idle": "2023-04-04T08:29:46.391145Z",
          "shell.execute_reply.started": "2023-04-04T08:29:35.685005Z",
          "shell.execute_reply": "2023-04-04T08:29:46.390356Z"
        },
        "trusted": true
      },
      "execution_count": null,
      "outputs": []
    },
    {
      "cell_type": "code",
      "source": [
        "create_records_test_val('/kaggle/input/yawn-eye-dataset-new/dataset_new/test')"
      ],
      "metadata": {
        "execution": {
          "iopub.status.busy": "2023-04-04T08:29:49.757567Z",
          "iopub.execute_input": "2023-04-04T08:29:49.757834Z",
          "iopub.status.idle": "2023-04-04T08:29:51.108084Z",
          "shell.execute_reply.started": "2023-04-04T08:29:49.757805Z",
          "shell.execute_reply": "2023-04-04T08:29:51.107293Z"
        },
        "trusted": true,
        "id": "d2Vf_tQMbKLC"
      },
      "execution_count": null,
      "outputs": []
    },
    {
      "cell_type": "markdown",
      "source": [
        "**Below Functions create TF Dataset from TFRecords effeciently**"
      ],
      "metadata": {
        "id": "cncpXtZCbKLC"
      }
    },
    {
      "cell_type": "code",
      "source": [
        "def parse_image(example):\n",
        "    feature = {'image':tf.io.FixedLenFeature([],tf.string),\n",
        "              'label':tf.io.FixedLenFeature([],tf.string)}\n",
        "    features = tf.io.parse_single_example(example,feature)\n",
        "    image = tf.io.decode_jpeg(features['image'],channels = 3)\n",
        "    image = tf.image.resize(image,[256,256])\n",
        "    label = tf.io.parse_tensor(features['label'], out_type=tf.float64)\n",
        "    label = tf.reshape(label,shape=(2,))\n",
        "    return image,label\n",
        "def read_dataset(filename,batchs):\n",
        "    data = tf.data.TFRecordDataset(filename,compression_type = \"GZIP\")\n",
        "    ds = configure(data)\n",
        "    return ds\n",
        "    \n",
        "def configure(data):\n",
        "    data = data.map(parse_image,num_parallel_calls = tf.data.experimental.AUTOTUNE)\n",
        "    data = data.shuffle(500)\n",
        "    data = data.batch(32,drop_remainder = True)\n",
        "    data = data.prefetch(buffer_size = tf.data.experimental.AUTOTUNE)\n",
        "    return data"
      ],
      "metadata": {
        "id": "ux9398VnuLfW",
        "execution": {
          "iopub.status.busy": "2023-04-04T08:32:39.035749Z",
          "iopub.execute_input": "2023-04-04T08:32:39.036343Z",
          "iopub.status.idle": "2023-04-04T08:32:39.046756Z",
          "shell.execute_reply.started": "2023-04-04T08:32:39.036303Z",
          "shell.execute_reply": "2023-04-04T08:32:39.045976Z"
        },
        "trusted": true
      },
      "execution_count": null,
      "outputs": []
    },
    {
      "cell_type": "markdown",
      "source": [
        "**Calling the above functions to Create a full TF dataset**"
      ],
      "metadata": {
        "id": "-8gAyt0JbKLC"
      }
    },
    {
      "cell_type": "code",
      "source": [
        "def use_records():\n",
        "    train = read_dataset(\"/kaggle/working/train_rec\",32)\n",
        "    val = read_dataset(\"/kaggle/working/val_rec\",32)\n",
        "    test = read_dataset(\"/kaggle/working/test_rec\",32)\n",
        "    return train,val,test\n",
        "train_ds,val_ds,test_ds = use_records()  "
      ],
      "metadata": {
        "id": "8HA7V5SHuYEZ",
        "execution": {
          "iopub.status.busy": "2023-04-04T08:32:40.839835Z",
          "iopub.execute_input": "2023-04-04T08:32:40.840143Z",
          "iopub.status.idle": "2023-04-04T08:32:40.904035Z",
          "shell.execute_reply.started": "2023-04-04T08:32:40.840112Z",
          "shell.execute_reply": "2023-04-04T08:32:40.903273Z"
        },
        "trusted": true
      },
      "execution_count": null,
      "outputs": []
    },
    {
      "cell_type": "code",
      "source": [
        "train_ds,val_ds,test_ds"
      ],
      "metadata": {
        "execution": {
          "iopub.status.busy": "2023-04-04T08:32:42.786424Z",
          "iopub.execute_input": "2023-04-04T08:32:42.786696Z",
          "iopub.status.idle": "2023-04-04T08:32:42.793121Z",
          "shell.execute_reply.started": "2023-04-04T08:32:42.786665Z",
          "shell.execute_reply": "2023-04-04T08:32:42.792247Z"
        },
        "trusted": true,
        "id": "9cp2sxZqbKLD",
        "outputId": "6548df90-daac-47d3-98e9-c7d25d50953d"
      },
      "execution_count": null,
      "outputs": [
        {
          "execution_count": 27,
          "output_type": "execute_result",
          "data": {
            "text/plain": "(<PrefetchDataset shapes: ((32, 256, 256, 3), (32, 2)), types: (tf.float32, tf.float64)>,\n <PrefetchDataset shapes: ((32, 256, 256, 3), (32, 2)), types: (tf.float32, tf.float64)>,\n <PrefetchDataset shapes: ((32, 256, 256, 3), (32, 2)), types: (tf.float32, tf.float64)>)"
          },
          "metadata": {}
        }
      ]
    },
    {
      "cell_type": "markdown",
      "source": [
        "**Checking the shape of a batch in our TF Dataset**"
      ],
      "metadata": {
        "id": "8AqogP2JbKLD"
      }
    },
    {
      "cell_type": "code",
      "source": [
        "for image, label in train_ds.take(1):\n",
        "  print(\"Image shape: \", image.numpy().shape)\n",
        "  print(\"Label: \", label.numpy().shape)"
      ],
      "metadata": {
        "id": "gOG3nEdjumwm",
        "outputId": "ae971182-377e-4d68-a516-f3b0f457d1aa",
        "execution": {
          "iopub.status.busy": "2023-04-04T08:32:44.184493Z",
          "iopub.execute_input": "2023-04-04T08:32:44.184800Z",
          "iopub.status.idle": "2023-04-04T08:32:45.215563Z",
          "shell.execute_reply.started": "2023-04-04T08:32:44.184765Z",
          "shell.execute_reply": "2023-04-04T08:32:45.214689Z"
        },
        "trusted": true
      },
      "execution_count": null,
      "outputs": [
        {
          "name": "stdout",
          "text": "Image shape:  (32, 256, 256, 3)\nLabel:  (32, 2)\n",
          "output_type": "stream"
        }
      ]
    },
    {
      "cell_type": "markdown",
      "source": [
        "**Visualising a Sample**"
      ],
      "metadata": {
        "id": "6wZcB9B1bKLD"
      }
    },
    {
      "cell_type": "code",
      "source": [
        "#Label 1 , 0 => Closed & Label 0 , 1 => Open\n",
        "for image, label in train_ds.take(1):\n",
        "  print(\"Label: \", label.numpy()[0])\n",
        "  plt.imshow(image.numpy()[0].astype(\"uint8\"))"
      ],
      "metadata": {
        "id": "Kih3sa7MvrEx",
        "outputId": "3472a97c-d503-4249-8d3c-67769b1be6ea",
        "execution": {
          "iopub.status.busy": "2023-04-04T08:34:06.038832Z",
          "iopub.execute_input": "2023-04-04T08:34:06.039145Z",
          "iopub.status.idle": "2023-04-04T08:34:07.186328Z",
          "shell.execute_reply.started": "2023-04-04T08:34:06.039112Z",
          "shell.execute_reply": "2023-04-04T08:34:07.185626Z"
        },
        "trusted": true
      },
      "execution_count": null,
      "outputs": [
        {
          "name": "stdout",
          "text": "Label:  [1. 0.]\n",
          "output_type": "stream"
        },
        {
          "output_type": "display_data",
          "data": {
            "text/plain": "<Figure size 432x288 with 1 Axes>",
            "image/png": "[encoded data removed]"
          },
          "metadata": {
            "needs_background": "light"
          }
        }
      ]
    },
    {
      "cell_type": "markdown",
      "source": [
        "**Creating CallBacks to choose the choose the epoch's weight that gives the best score**"
      ],
      "metadata": {
        "id": "n_Rq1b_ibKLE"
      }
    },
    {
      "cell_type": "code",
      "source": [
        "cb = [tf.keras.callbacks.ModelCheckpoint(\"./first_model.h5\",monitor='val_accuracy',save_best_only=True,mode='max')]"
      ],
      "metadata": {
        "id": "Fd7Y0jTNxP_o",
        "execution": {
          "iopub.status.busy": "2023-04-04T08:34:12.773544Z",
          "iopub.execute_input": "2023-04-04T08:34:12.773823Z",
          "iopub.status.idle": "2023-04-04T08:34:13.755927Z",
          "shell.execute_reply.started": "2023-04-04T08:34:12.773792Z",
          "shell.execute_reply": "2023-04-04T08:34:13.755164Z"
        },
        "trusted": true
      },
      "execution_count": null,
      "outputs": []
    },
    {
      "cell_type": "markdown",
      "source": [
        "**Building CNN Architecture**"
      ],
      "metadata": {
        "id": "R2xss19obKLE"
      }
    },
    {
      "cell_type": "code",
      "source": [
        "def build():\n",
        "  model = tf.keras.Sequential([\n",
        "  tf.keras.layers.Resizing(256,256),\n",
        "  tf.keras.layers.Rescaling(1./255),\n",
        "  tf.keras.layers.RandomFlip(mode=\"horizontal\"),\n",
        "  tf.keras.layers.RandomRotation(0.4, fill_mode='reflect',interpolation='bilinear'),\n",
        "  tf.keras.layers.Conv2D(32, 3, activation='relu'),\n",
        "  tf.keras.layers.MaxPooling2D(),\n",
        "  tf.keras.layers.Conv2D(32, 3, activation='relu'),\n",
        "  tf.keras.layers.MaxPooling2D(),\n",
        "  tf.keras.layers.Conv2D(32, 3, activation='relu'),\n",
        "  tf.keras.layers.MaxPooling2D(),\n",
        "  tf.keras.layers.Flatten(),\n",
        "  tf.keras.layers.Dense(128, activation='relu'),\n",
        "  tf.keras.layers.Dense(2,activation='softmax')\n",
        " ])\n",
        "  model.compile(\n",
        "  optimizer='adam',\n",
        "  loss=tf.losses.CategoricalCrossentropy(),\n",
        "  metrics=['accuracy'])\n",
        "  return model  "
      ],
      "metadata": {
        "id": "UFOobSjew6ET",
        "execution": {
          "iopub.status.busy": "2023-04-04T08:34:16.700069Z",
          "iopub.execute_input": "2023-04-04T08:34:16.700356Z",
          "iopub.status.idle": "2023-04-04T08:34:16.713808Z",
          "shell.execute_reply.started": "2023-04-04T08:34:16.700324Z",
          "shell.execute_reply": "2023-04-04T08:34:16.711734Z"
        },
        "trusted": true
      },
      "execution_count": null,
      "outputs": []
    },
    {
      "cell_type": "markdown",
      "source": [
        "**Calling CNN Architecture Function**"
      ],
      "metadata": {
        "id": "O6mvfHHzbKLE"
      }
    },
    {
      "cell_type": "code",
      "source": [
        "model = build()"
      ],
      "metadata": {
        "id": "HFULbl2zx8wI",
        "execution": {
          "iopub.status.busy": "2023-04-04T08:34:19.781432Z",
          "iopub.execute_input": "2023-04-04T08:34:19.781707Z",
          "iopub.status.idle": "2023-04-04T08:34:19.828577Z",
          "shell.execute_reply.started": "2023-04-04T08:34:19.781675Z",
          "shell.execute_reply": "2023-04-04T08:34:19.827936Z"
        },
        "trusted": true
      },
      "execution_count": null,
      "outputs": []
    },
    {
      "cell_type": "markdown",
      "source": [
        "**Training our own scratch-built CNN**"
      ],
      "metadata": {
        "id": "bmgluvEBbKLE"
      }
    },
    {
      "cell_type": "code",
      "source": [
        "deep_model = model.fit(train_ds,epochs=10,callbacks=cb,validation_data = val_ds)"
      ],
      "metadata": {
        "id": "Q_JEi6OnxUh1",
        "trusted": true
      },
      "execution_count": null,
      "outputs": []
    },
    {
      "cell_type": "markdown",
      "source": [
        "**The results are below**"
      ],
      "metadata": {
        "id": "Ffmov2QcbKLF"
      }
    },
    {
      "cell_type": "code",
      "source": [
        "model.summary()"
      ],
      "metadata": {
        "execution": {
          "iopub.status.busy": "2023-04-04T08:39:19.809556Z",
          "iopub.execute_input": "2023-04-04T08:39:19.810076Z",
          "iopub.status.idle": "2023-04-04T08:39:19.825312Z",
          "shell.execute_reply.started": "2023-04-04T08:39:19.810020Z",
          "shell.execute_reply": "2023-04-04T08:39:19.824637Z"
        },
        "trusted": true,
        "id": "Xc9rEKwLbKLF",
        "outputId": "21213700-1893-4af5-d68f-3a5553ddda3b"
      },
      "execution_count": null,
      "outputs": [
        {
          "name": "stdout",
          "text": "Model: \"sequential\"\n_________________________________________________________________\nLayer (type)                 Output Shape              Param #   \n=================================================================\nresizing (Resizing)          (32, 256, 256, 3)         0         \n_________________________________________________________________\nrescaling (Rescaling)        (32, 256, 256, 3)         0         \n_________________________________________________________________\nrandom_flip (RandomFlip)     (32, 256, 256, 3)         0         \n_________________________________________________________________\nrandom_rotation (RandomRotat (32, 256, 256, 3)         0         \n_________________________________________________________________\nconv2d (Conv2D)              (32, 254, 254, 32)        896       \n_________________________________________________________________\nmax_pooling2d (MaxPooling2D) (32, 127, 127, 32)        0         \n_________________________________________________________________\nconv2d_1 (Conv2D)            (32, 125, 125, 32)        9248      \n_________________________________________________________________\nmax_pooling2d_1 (MaxPooling2 (32, 62, 62, 32)          0         \n_________________________________________________________________\nconv2d_2 (Conv2D)            (32, 60, 60, 32)          9248      \n_________________________________________________________________\nmax_pooling2d_2 (MaxPooling2 (32, 30, 30, 32)          0         \n_________________________________________________________________\nflatten (Flatten)            (32, 28800)               0         \n_________________________________________________________________\ndense (Dense)                (32, 128)                 3686528   \n_________________________________________________________________\ndense_1 (Dense)              (32, 2)                   258       \n=================================================================\nTotal params: 3,706,178\nTrainable params: 3,706,178\nNon-trainable params: 0\n_________________________________________________________________\n",
          "output_type": "stream"
        }
      ]
    },
    {
      "cell_type": "markdown",
      "source": [
        "**Visualsing Our Model's Performance**"
      ],
      "metadata": {
        "id": "-nnve_dgbKLF"
      }
    },
    {
      "cell_type": "code",
      "source": [
        "pd.DataFrame(deep_model.history).plot()"
      ],
      "metadata": {
        "execution": {
          "iopub.status.busy": "2023-04-04T08:39:25.366341Z",
          "iopub.execute_input": "2023-04-04T08:39:25.366613Z",
          "iopub.status.idle": "2023-04-04T08:39:25.609502Z",
          "shell.execute_reply.started": "2023-04-04T08:39:25.366582Z",
          "shell.execute_reply": "2023-04-04T08:39:25.608706Z"
        },
        "trusted": true,
        "id": "mW9plhQ6bKLF",
        "outputId": "3c7a47e0-1a18-4cc6-faa9-56ed01e61d60"
      },
      "execution_count": null,
      "outputs": [
        {
          "execution_count": 59,
          "output_type": "execute_result",
          "data": {
            "text/plain": "<AxesSubplot:>"
          },
          "metadata": {}
        },
        {
          "output_type": "display_data",
          "data": {
            "text/plain": "<Figure size 432x288 with 1 Axes>",
            "image/png": "[encoded data removed]"
          },
          "metadata": {
            "needs_background": "light"
          }
        }
      ]
    },
    {
      "cell_type": "markdown",
      "source": [
        "**Evaluating model to Test Our Model**"
      ],
      "metadata": {
        "id": "Sk2Q7AAkbKLF"
      }
    },
    {
      "cell_type": "code",
      "source": [
        "model.evaluate(val_ds)"
      ],
      "metadata": {
        "execution": {
          "iopub.status.busy": "2023-04-04T08:39:49.251352Z",
          "iopub.execute_input": "2023-04-04T08:39:49.252053Z",
          "iopub.status.idle": "2023-04-04T08:39:49.580312Z",
          "shell.execute_reply.started": "2023-04-04T08:39:49.252016Z",
          "shell.execute_reply": "2023-04-04T08:39:49.579620Z"
        },
        "trusted": true,
        "id": "CwclMseIbKLF",
        "outputId": "bc24b5fa-a625-4962-b827-2be3e8ec1900"
      },
      "execution_count": null,
      "outputs": [
        {
          "name": "stdout",
          "text": "3/3 [==============================] - 0s 23ms/step - loss: 0.0826 - accuracy: 0.9688\n",
          "output_type": "stream"
        },
        {
          "execution_count": 69,
          "output_type": "execute_result",
          "data": {
            "text/plain": "[0.08255937695503235, 0.96875]"
          },
          "metadata": {}
        }
      ]
    },
    {
      "cell_type": "code",
      "source": [
        "model.evaluate(test_ds)"
      ],
      "metadata": {
        "execution": {
          "iopub.status.busy": "2023-04-04T08:39:43.920544Z",
          "iopub.execute_input": "2023-04-04T08:39:43.921218Z",
          "iopub.status.idle": "2023-04-04T08:39:44.255479Z",
          "shell.execute_reply.started": "2023-04-04T08:39:43.921182Z",
          "shell.execute_reply": "2023-04-04T08:39:44.254729Z"
        },
        "trusted": true,
        "id": "UTFi5V3TbKLF",
        "outputId": "2545eabf-163e-4bd6-e124-ff523e6cde12"
      },
      "execution_count": null,
      "outputs": [
        {
          "name": "stdout",
          "text": "3/3 [==============================] - 0s 22ms/step - loss: 0.1376 - accuracy: 0.9792\n",
          "output_type": "stream"
        },
        {
          "execution_count": 66,
          "output_type": "execute_result",
          "data": {
            "text/plain": "[0.13758485019207, 0.9791666865348816]"
          },
          "metadata": {}
        }
      ]
    }
  ]
}
